{
  "nbformat": 4,
  "nbformat_minor": 0,
  "metadata": {
    "colab": {
      "provenance": []
    },
    "kernelspec": {
      "name": "python3",
      "display_name": "Python 3"
    },
    "language_info": {
      "name": "python"
    }
  },
  "cells": [
    {
      "cell_type": "code",
      "execution_count": 1,
      "metadata": {
        "colab": {
          "base_uri": "https://localhost:8080/"
        },
        "id": "e5K2NW8BSCXV",
        "outputId": "c9fbd56b-4d92-4666-88f9-98489d8afdfb"
      },
      "outputs": [
        {
          "output_type": "stream",
          "name": "stdout",
          "text": [
            "Collecting pycryptodome\n",
            "  Downloading pycryptodome-3.23.0-cp37-abi3-manylinux_2_17_x86_64.manylinux2014_x86_64.whl.metadata (3.4 kB)\n",
            "Downloading pycryptodome-3.23.0-cp37-abi3-manylinux_2_17_x86_64.manylinux2014_x86_64.whl (2.3 MB)\n",
            "\u001b[2K   \u001b[90m━━━━━━━━━━━━━━━━━━━━━━━━━━━━━━━━━━━━━━━━\u001b[0m \u001b[32m2.3/2.3 MB\u001b[0m \u001b[31m21.1 MB/s\u001b[0m eta \u001b[36m0:00:00\u001b[0m\n",
            "\u001b[?25hInstalling collected packages: pycryptodome\n",
            "Successfully installed pycryptodome-3.23.0\n"
          ]
        }
      ],
      "source": [
        "!pip install pycryptodome"
      ]
    },
    {
      "cell_type": "code",
      "source": [
        "# --- Alaa's Side ---\n",
        "from Crypto.PublicKey import RSA\n",
        "from Crypto.Cipher import PKCS1_OAEP, AES\n",
        "from Crypto.Signature import pkcs1_15\n",
        "from Crypto.Hash import SHA256\n",
        "import hashlib"
      ],
      "metadata": {
        "id": "GQDrBA4mSXHk"
      },
      "execution_count": 2,
      "outputs": []
    },
    {
      "cell_type": "code",
      "source": [
        "# Generate Alaa's RSA keys\n",
        "alaa_key = RSA.generate(2048)\n",
        "alaa_private = alaa_key\n",
        "alaa_public = alaa_key.publickey()"
      ],
      "metadata": {
        "id": "bgIQ5tTMS6ev"
      },
      "execution_count": 4,
      "outputs": []
    },
    {
      "cell_type": "code",
      "source": [
        "# Save Alaa's public key\n",
        "with open(\"alaa_pub.pem\", \"wb\") as f:\n",
        "    f.write(alaa_public.export_key())"
      ],
      "metadata": {
        "id": "wicppqohSrcC"
      },
      "execution_count": 5,
      "outputs": []
    },
    {
      "cell_type": "code",
      "source": [
        "# Load Mohamed's public key (exchange manually)\n",
        "mohamed_public = RSA.import_key(open(\"mohamed_pub.pem\", \"rb\").read())"
      ],
      "metadata": {
        "id": "skS-ZI7GYz2a"
      },
      "execution_count": 6,
      "outputs": []
    },
    {
      "cell_type": "code",
      "source": [
        "# Generate Alaa's random AES part\n",
        "import os\n",
        "alaa_random = os.urandom(16)"
      ],
      "metadata": {
        "id": "sDQBzPzVY1rX"
      },
      "execution_count": 7,
      "outputs": []
    },
    {
      "cell_type": "code",
      "source": [
        "# Encrypt Alaa's part with Mohamed's public key\n",
        "encrypted_alaa_random = PKCS1_OAEP.new(mohamed_public).encrypt(alaa_random)\n",
        "with open(\"encrypted_alaa_key.bin\", \"wb\") as f:\n",
        "    f.write(encrypted_alaa_random)"
      ],
      "metadata": {
        "id": "s1Qm2oKLY7sx"
      },
      "execution_count": 8,
      "outputs": []
    },
    {
      "cell_type": "code",
      "source": [
        "# Load Mohamed's encrypted part\n",
        "encrypted_mohamed_random = open(\"encrypted_mohamed_key.bin\", \"rb\").read()"
      ],
      "metadata": {
        "id": "ZRUOQ2-iZM9S"
      },
      "execution_count": 9,
      "outputs": []
    },
    {
      "cell_type": "code",
      "source": [
        "# Decrypt with Alaa's private key\n",
        "mohamed_random = PKCS1_OAEP.new(alaa_private).decrypt(encrypted_mohamed_random)"
      ],
      "metadata": {
        "id": "NZ0fWdfQbSV4"
      },
      "execution_count": 10,
      "outputs": []
    },
    {
      "cell_type": "code",
      "source": [
        "# Generate session key\n",
        "session_key = hashlib.sha256(mohamed_random + alaa_random).digest()[:16]"
      ],
      "metadata": {
        "id": "ekh_2As-bV5t"
      },
      "execution_count": 11,
      "outputs": []
    },
    {
      "cell_type": "code",
      "source": [
        "# Decrypt message\n",
        "data = open(\"encrypted_message.bin\", \"rb\").read()\n",
        "nonce, tag, ciphertext = data[:16], data[16:32], data[32:]\n",
        "message = AES.new(session_key, AES.MODE_EAX, nonce=nonce).decrypt_and_verify(ciphertext, tag)"
      ],
      "metadata": {
        "id": "XASS0nwpbcjS"
      },
      "execution_count": 13,
      "outputs": []
    },
    {
      "cell_type": "code",
      "source": [
        "# Verify signature\n",
        "signature = open(\"signature.bin\", \"rb\").read()\n",
        "h = SHA256.new(message)\n",
        "try:\n",
        "    pkcs1_15.new(mohamed_public).verify(h, signature)\n",
        "    print(\"Signature valid.\")\n",
        "except (ValueError, TypeError):\n",
        "    print(\"Signature invalid.\")\n",
        "\n",
        "print(\"Decrypted message:\", message.decode())"
      ],
      "metadata": {
        "colab": {
          "base_uri": "https://localhost:8080/"
        },
        "id": "fbi5fSq_g8nd",
        "outputId": "307e19d9-0c70-4398-fd21-d17bcf363a87"
      },
      "execution_count": 14,
      "outputs": [
        {
          "output_type": "stream",
          "name": "stdout",
          "text": [
            "Signature valid.\n",
            "Decrypted message: MohamedID202201647\n"
          ]
        }
      ]
    }
  ]
}