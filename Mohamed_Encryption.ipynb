{
  "nbformat": 4,
  "nbformat_minor": 0,
  "metadata": {
    "colab": {
      "provenance": []
    },
    "kernelspec": {
      "name": "python3",
      "display_name": "Python 3"
    },
    "language_info": {
      "name": "python"
    }
  },
  "cells": [
    {
      "cell_type": "code",
      "source": [
        "!pip install pycryptodome"
      ],
      "metadata": {
        "colab": {
          "base_uri": "https://localhost:8080/"
        },
        "id": "Wwfo1W0cF1aK",
        "outputId": "47c42a0e-ba6e-4fff-cb8c-f9bd1776515e"
      },
      "execution_count": 2,
      "outputs": [
        {
          "output_type": "stream",
          "name": "stdout",
          "text": [
            "Collecting pycryptodome\n",
            "  Downloading pycryptodome-3.23.0-cp37-abi3-manylinux_2_17_x86_64.manylinux2014_x86_64.whl.metadata (3.4 kB)\n",
            "Downloading pycryptodome-3.23.0-cp37-abi3-manylinux_2_17_x86_64.manylinux2014_x86_64.whl (2.3 MB)\n",
            "\u001b[2K   \u001b[90m━━━━━━━━━━━━━━━━━━━━━━━━━━━━━━━━━━━━━━━━\u001b[0m \u001b[32m2.3/2.3 MB\u001b[0m \u001b[31m23.5 MB/s\u001b[0m eta \u001b[36m0:00:00\u001b[0m\n",
            "\u001b[?25hInstalling collected packages: pycryptodome\n",
            "Successfully installed pycryptodome-3.23.0\n"
          ]
        }
      ]
    },
    {
      "cell_type": "code",
      "execution_count": 3,
      "metadata": {
        "id": "rphS6boJE4-3"
      },
      "outputs": [],
      "source": [
        "# --- Mohamed's Side ---\n",
        "from Crypto.PublicKey import RSA\n",
        "from Crypto.Cipher import PKCS1_OAEP, AES\n",
        "from Crypto.Signature import pkcs1_15\n",
        "from Crypto.Hash import SHA256\n",
        "from Crypto.Random import get_random_bytes\n",
        "import hashlib"
      ]
    },
    {
      "cell_type": "code",
      "source": [
        "# Generate Mohamed's RSA keys\n",
        "mohamed_key = RSA.generate(2048)\n",
        "mohamed_private = mohamed_key\n",
        "mohamed_public = mohamed_key.publickey()"
      ],
      "metadata": {
        "id": "lZV6F-A0F43V"
      },
      "execution_count": 4,
      "outputs": []
    },
    {
      "cell_type": "code",
      "source": [
        "# Save Mohamed's public key\n",
        "with open(\"mohamed_pub.pem\", \"wb\") as f:\n",
        "    f.write(mohamed_public.export_key())"
      ],
      "metadata": {
        "id": "20TvVGHuG1ug"
      },
      "execution_count": 5,
      "outputs": []
    },
    {
      "cell_type": "code",
      "source": [
        "# Load Alaa's public key (exchange manually)\n",
        "alaa_public = RSA.import_key(open(\"alaa_pub.pem\", \"rb\").read())"
      ],
      "metadata": {
        "id": "c4cu4bslTJSg"
      },
      "execution_count": 6,
      "outputs": []
    },
    {
      "cell_type": "code",
      "source": [
        "# Generate Mohamed's random AES part\n",
        "mohamed_random = get_random_bytes(16)"
      ],
      "metadata": {
        "id": "e1hrKgcHTXip"
      },
      "execution_count": 7,
      "outputs": []
    },
    {
      "cell_type": "code",
      "source": [
        "# Encrypt Mohamed's AES part with Alaa's public key\n",
        "cipher_rsa_alaa = PKCS1_OAEP.new(alaa_public)\n",
        "encrypted_mohamed_random = cipher_rsa_alaa.encrypt(mohamed_random)"
      ],
      "metadata": {
        "id": "tlSSG5i8YU12"
      },
      "execution_count": 8,
      "outputs": []
    },
    {
      "cell_type": "code",
      "source": [
        "# Save to send to Alaa\n",
        "with open(\"encrypted_mohamed_key.bin\", \"wb\") as f:\n",
        "    f.write(encrypted_mohamed_random)"
      ],
      "metadata": {
        "id": "XECAwUhNYaKw"
      },
      "execution_count": 9,
      "outputs": []
    },
    {
      "cell_type": "code",
      "source": [
        "# Load Alaa's encrypted part (after exchange)\n",
        "encrypted_alaa_random = open(\"encrypted_alaa_key.bin\", \"rb\").read()"
      ],
      "metadata": {
        "id": "frx4yhhccJm8"
      },
      "execution_count": 10,
      "outputs": []
    },
    {
      "cell_type": "code",
      "source": [
        "# Decrypt Alaa's part with Mohamed's private key\n",
        "alaa_random = PKCS1_OAEP.new(mohamed_private).decrypt(encrypted_alaa_random)"
      ],
      "metadata": {
        "id": "3HJ4KbZjcViO"
      },
      "execution_count": 11,
      "outputs": []
    },
    {
      "cell_type": "code",
      "source": [
        "# Generate session key\n",
        "session_key = hashlib.sha256(mohamed_random + alaa_random).digest()[:16]"
      ],
      "metadata": {
        "id": "U-XTWR1Vchdo"
      },
      "execution_count": 12,
      "outputs": []
    },
    {
      "cell_type": "code",
      "source": [
        "# Encrypt message and sign\n",
        "message = b\"MohamedID202201647\"\n",
        "cipher = AES.new(session_key, AES.MODE_EAX)\n",
        "nonce = cipher.nonce\n",
        "ciphertext, tag = cipher.encrypt_and_digest(message)\n",
        "\n",
        "with open(\"encrypted_message.bin\", \"wb\") as f:\n",
        "    f.write(nonce + tag + ciphertext)\n",
        "\n",
        "signature = pkcs1_15.new(mohamed_private).sign(SHA256.new(message))\n",
        "with open(\"signature.bin\", \"wb\") as f:\n",
        "    f.write(signature)"
      ],
      "metadata": {
        "id": "W3PXN91QgX7v"
      },
      "execution_count": 13,
      "outputs": []
    }
  ]
}